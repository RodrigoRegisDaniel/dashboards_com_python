{
 "cells": [
  {
   "cell_type": "code",
   "execution_count": null,
   "id": "669731c2",
   "metadata": {},
   "outputs": [],
   "source": [
    "import streamlit as st #  construir os dashboards\n",
    "import pandas as pd\n",
    "import plotly.express as px #  construir os graficos\n",
    "\n",
    "st.set_page_config(layout=\"wide\")"
   ]
  },
  {
   "cell_type": "code",
   "execution_count": null,
   "id": "2daaf703",
   "metadata": {},
   "outputs": [],
   "source": [
    "#  Com uma visão mensal\n",
    "#  faturamento por unidade… \n",
    "#  Tipo de produto mais vendido, contribuição por filial,\n",
    "#  Desempenho das forma de pagamento…\n",
    "#  Como estão as avaliações das filiais?"
   ]
  },
  {
   "cell_type": "code",
   "execution_count": null,
   "id": "51c0f7d6",
   "metadata": {},
   "outputs": [],
   "source": [
    "df = pd.read_csv(\"supermarket_sales.csv\", sep=\";\", decimal=\",\")\n",
    "df[\"Date\"] = pd.to_datetime(df[\"Date\"])\n",
    "#  data não esta sendo reconhecido como data mas como objeto, convertendo para formato de data\n",
    "#  fazendo a ordenação \n",
    "df=df.sort_values(\"Date\")"
   ]
  },
  {
   "cell_type": "code",
   "execution_count": null,
   "id": "91a7a8ff",
   "metadata": {},
   "outputs": [],
   "source": [
    "df[\"Month\"] = df[\"Date\"].apply(lambda x: str(x.year) + \"-\" + str(x.month))\n",
    "month = st.sidebar.selectbox(\"Mês\", df[\"Month\"].unique())"
   ]
  },
  {
   "cell_type": "code",
   "execution_count": null,
   "id": "f284d91c",
   "metadata": {},
   "outputs": [],
   "source": [
    "df_filtered = df[df[\"Month\"] == month]"
   ]
  },
  {
   "cell_type": "code",
   "execution_count": null,
   "id": "5eb750b3",
   "metadata": {},
   "outputs": [],
   "source": [
    "col1, col2 = st.columns(2)\n",
    "col3, col4, col5 = st.columns(3)"
   ]
  },
  {
   "cell_type": "code",
   "execution_count": null,
   "id": "9440d286",
   "metadata": {},
   "outputs": [],
   "source": [
    "fig_date = px.bar(df_filtered, x=\"Date\", y=\"Total\", color=\"City\", title=\"Faturamento por dia\")\n",
    "col1.plotly_chart(fig_date, use_container_width=True)"
   ]
  },
  {
   "cell_type": "code",
   "execution_count": null,
   "id": "b2b08f90",
   "metadata": {},
   "outputs": [],
   "source": [
    "fig_prod = px.bar(df_filtered, x=\"Date\", y=\"Product line\", \n",
    "                  color=\"City\", title=\"Faturamento por tipo de produto\",\n",
    "                  orientation=\"h\")\n",
    "col2.plotly_chart(fig_prod, use_container_width=True)"
   ]
  },
  {
   "cell_type": "code",
   "execution_count": null,
   "id": "69890317",
   "metadata": {},
   "outputs": [],
   "source": [
    "city_total = df_filtered.groupby(\"City\")[[\"Total\"]].sum().reset_index()\n",
    "fig_city = px.bar(city_total, x=\"City\", y=\"Total\",\n",
    "                   title=\"Faturamento por filial\")\n",
    "col3.plotly_chart(fig_city, use_container_width=True)"
   ]
  },
  {
   "cell_type": "code",
   "execution_count": null,
   "id": "9a280480",
   "metadata": {},
   "outputs": [],
   "source": [
    "fig_kind = px.pie(df_filtered, values=\"Total\", names=\"Payment\",\n",
    "                   title=\"Faturamento por tipo de pagamento\")\n",
    "col4.plotly_chart(fig_kind, use_container_width=True)"
   ]
  },
  {
   "cell_type": "code",
   "execution_count": null,
   "id": "4c49d7cd",
   "metadata": {},
   "outputs": [],
   "source": [
    "city_total = df_filtered.groupby(\"City\")[[\"Rating\"]].mean().reset_index()\n",
    "fig_rating = px.bar(df_filtered, y=\"Rating\", x=\"City\",\n",
    "                   title=\"Avaliação\")\n",
    "col5.plotly_chart(fig_rating, use_container_width=True)"
   ]
  }
 ],
 "metadata": {
  "kernelspec": {
   "display_name": "Python 3 (ipykernel)",
   "language": "python",
   "name": "python3"
  },
  "language_info": {
   "codemirror_mode": {
    "name": "ipython",
    "version": 3
   },
   "file_extension": ".py",
   "mimetype": "text/x-python",
   "name": "python",
   "nbconvert_exporter": "python",
   "pygments_lexer": "ipython3",
   "version": "3.11.5"
  }
 },
 "nbformat": 4,
 "nbformat_minor": 5
}
